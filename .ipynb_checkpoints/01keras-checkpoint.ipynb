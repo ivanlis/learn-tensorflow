{
 "cells": [
  {
   "cell_type": "markdown",
   "metadata": {},
   "source": [
    "### Required to save models in YAML format:"
   ]
  },
  {
   "cell_type": "code",
   "execution_count": 2,
   "metadata": {},
   "outputs": [],
   "source": [
    "!pip install -q pyyaml"
   ]
  },
  {
   "cell_type": "markdown",
   "metadata": {},
   "source": [
    "### Import Keras:"
   ]
  },
  {
   "cell_type": "code",
   "execution_count": 34,
   "metadata": {},
   "outputs": [],
   "source": [
    "import tensorflow as tf\n",
    "from tensorflow.keras import layers\n",
    "from tensorflow import set_random_seed"
   ]
  },
  {
   "cell_type": "code",
   "execution_count": 35,
   "metadata": {},
   "outputs": [
    {
     "name": "stdout",
     "output_type": "stream",
     "text": [
      "TF version: 1.13.1\n",
      "TF Keras version: 2.2.4-tf\n"
     ]
    }
   ],
   "source": [
    "print(\"TF version: {}\\nTF Keras version: {}\".format(tf.VERSION, tf.keras.__version__))"
   ]
  },
  {
   "cell_type": "markdown",
   "metadata": {},
   "source": [
    "## Sequential model"
   ]
  },
  {
   "cell_type": "markdown",
   "metadata": {},
   "source": [
    "### Simple fully connected network"
   ]
  },
  {
   "cell_type": "code",
   "execution_count": 36,
   "metadata": {},
   "outputs": [],
   "source": [
    "set_random_seed(2019)"
   ]
  },
  {
   "cell_type": "code",
   "execution_count": 37,
   "metadata": {},
   "outputs": [],
   "source": [
    "model = tf.keras.Sequential([\n",
    "    layers.Dense(64, activation='relu', input_shape=(32,)),\n",
    "    layers.Dense(64, activation='relu'),\n",
    "    layers.Dense(10, activation='softmax')])"
   ]
  },
  {
   "cell_type": "code",
   "execution_count": 38,
   "metadata": {},
   "outputs": [],
   "source": [
    "model.compile(optimizer=tf.train.AdamOptimizer(0.001), # something from tf.train\n",
    "             loss='categorical_crossentropy', # something from tf.keras.losses\n",
    "             metrics=['accuracy']) # something from tf.keras.metrics"
   ]
  },
  {
   "cell_type": "markdown",
   "metadata": {},
   "source": [
    "### Input NumPy data"
   ]
  },
  {
   "cell_type": "code",
   "execution_count": 39,
   "metadata": {},
   "outputs": [],
   "source": [
    "import numpy as np"
   ]
  },
  {
   "cell_type": "markdown",
   "metadata": {},
   "source": [
    "Data: 1000 examples."
   ]
  },
  {
   "cell_type": "code",
   "execution_count": 44,
   "metadata": {},
   "outputs": [
    {
     "name": "stdout",
     "output_type": "stream",
     "text": [
      "Epoch 1/10\n",
      "1000/1000 [==============================] - 0s 51us/sample - loss: 11.3783 - acc: 0.2450\n",
      "Epoch 2/10\n",
      "1000/1000 [==============================] - 0s 51us/sample - loss: 11.3739 - acc: 0.2430\n",
      "Epoch 3/10\n",
      "1000/1000 [==============================] - 0s 46us/sample - loss: 11.3691 - acc: 0.2430\n",
      "Epoch 4/10\n",
      "1000/1000 [==============================] - 0s 44us/sample - loss: 11.3651 - acc: 0.2480\n",
      "Epoch 5/10\n",
      "1000/1000 [==============================] - 0s 43us/sample - loss: 11.3600 - acc: 0.2570\n",
      "Epoch 6/10\n",
      "1000/1000 [==============================] - 0s 53us/sample - loss: 11.3549 - acc: 0.2540\n",
      "Epoch 7/10\n",
      "1000/1000 [==============================] - 0s 45us/sample - loss: 11.3512 - acc: 0.2560\n",
      "Epoch 8/10\n",
      "1000/1000 [==============================] - 0s 46us/sample - loss: 11.3485 - acc: 0.2560\n",
      "Epoch 9/10\n",
      "1000/1000 [==============================] - 0s 48us/sample - loss: 11.3448 - acc: 0.2530\n",
      "Epoch 10/10\n",
      "1000/1000 [==============================] - 0s 50us/sample - loss: 11.3364 - acc: 0.2570\n"
     ]
    },
    {
     "data": {
      "text/plain": [
       "<tensorflow.python.keras.callbacks.History at 0x7f6acdeaaba8>"
      ]
     },
     "execution_count": 44,
     "metadata": {},
     "output_type": "execute_result"
    }
   ],
   "source": [
    "np.random.seed(2019)\n",
    "\n",
    "data = np.random.random((1000, 32))\n",
    "labels = np.random.random((1000, 10))\n",
    "\n",
    "data[0:5,:]\n",
    "\n",
    "model.fit(data, labels, epochs=10, batch_size=32)"
   ]
  },
  {
   "cell_type": "code",
   "execution_count": 19,
   "metadata": {},
   "outputs": [],
   "source": [
    "np.random.seed?"
   ]
  }
 ],
 "metadata": {
  "kernelspec": {
   "display_name": "Python 3",
   "language": "python",
   "name": "python3"
  },
  "language_info": {
   "codemirror_mode": {
    "name": "ipython",
    "version": 3
   },
   "file_extension": ".py",
   "mimetype": "text/x-python",
   "name": "python",
   "nbconvert_exporter": "python",
   "pygments_lexer": "ipython3",
   "version": "3.6.8"
  }
 },
 "nbformat": 4,
 "nbformat_minor": 2
}
